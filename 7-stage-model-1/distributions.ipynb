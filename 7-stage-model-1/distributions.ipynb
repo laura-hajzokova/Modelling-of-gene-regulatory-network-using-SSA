{
 "cells": [
  {
   "cell_type": "code",
   "execution_count": 77,
   "id": "initial_id",
   "metadata": {
    "collapsed": true,
    "ExecuteTime": {
     "end_time": "2024-05-01T23:34:13.282481500Z",
     "start_time": "2024-05-01T23:34:12.938031900Z"
    }
   },
   "outputs": [
    {
     "data": {
      "text/plain": "'# First, ensure you have matplotlib and numpy installed\\n!pip install matplotlib\\n!pip install numpy\\n!pip install scipy\\n\\n# Change directory to where your StochPy source code is located\\n%cd //user//gent//466//vsc46678//StochPy-2.3\\n\\n# Now install StochPy using pip\\n!pip install .\\n'"
     },
     "execution_count": 77,
     "metadata": {},
     "output_type": "execute_result"
    }
   ],
   "source": [
    "'''# First, ensure you have matplotlib and numpy installed\n",
    "!pip install matplotlib\n",
    "!pip install numpy\n",
    "!pip install scipy\n",
    "!pip install stochpy'''"
   ]
  },
  {
   "cell_type": "code",
   "execution_count": 78,
   "outputs": [],
   "source": [
    "# import libraries\n",
    "import matplotlib.pyplot as plt\n",
    "from scipy.integrate import odeint\n",
    "import numpy as np\n",
    "import matplotlib.gridspec as gridspec\n",
    "\n",
    "# Create a mock MachAr function or object - necessary for compatibility with newer NumPy versions\n",
    "class MockMachAr:\n",
    "    def __init__(self):\n",
    "        # Initialize with default machine characteristics, adjust as necessary\n",
    "        self.epsilon = np.finfo(float).eps\n",
    "        self.tiny = np.finfo(float).tiny\n",
    "        self.huge = np.finfo(float).max\n",
    "        self.precision = np.finfo(float).precision\n",
    "        self.resolution = np.finfo(float).resolution\n",
    "\n",
    "# Inject the mock MachAr into numpy\n",
    "np.MachAr = MockMachAr\n",
    "\n",
    "import stochpy"
   ],
   "metadata": {
    "collapsed": false,
    "ExecuteTime": {
     "end_time": "2024-05-01T23:34:13.282481500Z",
     "start_time": "2024-05-01T23:34:12.951129500Z"
    }
   },
   "id": "6f01d6da726fd51b"
  },
  {
   "cell_type": "code",
   "execution_count": 79,
   "outputs": [],
   "source": [
    "# set parameters\n",
    "\n",
    "# initial state\n",
    "y0 = [0,0,0,0,0,0,0]\n",
    "\n",
    "# reaction parameters\n",
    "k1 = 1\n",
    "gamma1 = 0.1\n",
    "Gamma1 = 0.1\n",
    "K1 = 0.05\n",
    "b1 = K1/gamma1\n",
    "\n",
    "gamma = 0.05\n",
    "Gamma = 0.5\n",
    "kmax = 2\n",
    "kd = 2\n",
    "K = 0.1\n",
    "n = 2\n",
    "b = K/gamma\n",
    "\n",
    "labels = [\"P1\", \"P2\", \"P3\", \"P4\", \"P5\", \"P6\", \"P7\"]\n",
    "col = [\"b\", \"g\", \"r\", \"c\", \"m\", \"#07c9fa\", \"#ffd000\"]\n"
   ],
   "metadata": {
    "collapsed": false,
    "ExecuteTime": {
     "end_time": "2024-05-01T23:34:13.282481500Z",
     "start_time": "2024-05-01T23:34:12.975008300Z"
    }
   },
   "id": "c20035e621a0f2f"
  },
  {
   "cell_type": "code",
   "execution_count": 80,
   "outputs": [],
   "source": [
    "# Set path to the model\n",
    "#path = \"//data//gent//466//vsc46678//\"\n",
    "path = \"C:\\\\Users\\\\laura\\\\Desktop\\\\Lauricek\\\\school\\\\mgr\\\\DIPLO2023\\\\kody_diplo\\\\data_model1\\\\\""
   ],
   "metadata": {
    "collapsed": false,
    "ExecuteTime": {
     "end_time": "2024-05-01T23:34:13.282481500Z",
     "start_time": "2024-05-01T23:34:12.991473300Z"
    }
   },
   "id": "2baf985342467871"
  },
  {
   "cell_type": "code",
   "execution_count": null,
   "outputs": [
    {
     "name": "stdout",
     "output_type": "stream",
     "text": [
      "[||||                ] 20%, Runtime: 275.04 sec"
     ]
    }
   ],
   "source": [
    "smod_omega00001 = stochpy.SSA()\n",
    "smod_omega00001.Model(path+\"7stage_omega00001.psc\")\n",
    "smod_omega00001.DoStochSim(method=\"direct\",end=1000000000,mode=\"time\",trajectories=5,IsTrackPropensities=True) "
   ],
   "metadata": {
    "collapsed": false,
    "is_executing": true,
    "ExecuteTime": {
     "start_time": "2024-05-01T23:34:13.007680200Z"
    }
   },
   "id": "b8f76d1a7fbe4075"
  },
  {
   "cell_type": "code",
   "execution_count": null,
   "outputs": [],
   "source": [
    "smod_omega01 = stochpy.SSA()\n",
    "smod_omega01.Model(path+\"7stage_omega01.psc\")\n",
    "smod_omega01.DoStochSim(method=\"direct\",end=1000000,mode=\"time\",trajectories=5,IsTrackPropensities=True) "
   ],
   "metadata": {
    "collapsed": false,
    "is_executing": true
   },
   "id": "d0dc32467ee9b932"
  },
  {
   "cell_type": "code",
   "execution_count": null,
   "outputs": [],
   "source": [
    "smod_omega2 = stochpy.SSA()\n",
    "smod_omega2.Model(path+\"7stage_omega2.psc\")\n",
    "smod_omega2.DoStochSim(method=\"direct\",end=50000,mode=\"time\",trajectories=5,IsTrackPropensities=True) "
   ],
   "metadata": {
    "collapsed": false,
    "is_executing": true
   },
   "id": "7a0264152e7f87ba"
  },
  {
   "cell_type": "code",
   "execution_count": null,
   "outputs": [],
   "source": [
    "smod_omega1k = stochpy.SSA()\n",
    "smod_omega1k.Model(path+\"7stage_omega200.psc\")\n",
    "smod_omega1k.DoStochSim(method=\"Tauleap\",end=5000,mode=\"time\",trajectories=5,epsilon=0.03,IsTrackPropensities=True) "
   ],
   "metadata": {
    "collapsed": false,
    "is_executing": true
   },
   "id": "6453d0862b201dcf"
  },
  {
   "cell_type": "code",
   "execution_count": null,
   "outputs": [],
   "source": [
    "smod_omega10k = stochpy.SSA()\n",
    "smod_omega10k.Model(path+\"7stage_omega10k.psc\")\n",
    "smod_omega10k.DoStochSim(method=\"Tauleap\",end=5000,mode=\"time\",trajectories=5,epsilon=0.03,IsTrackPropensities=True) "
   ],
   "metadata": {
    "collapsed": false,
    "is_executing": true
   },
   "id": "f037dd3d3fd5361b"
  },
  {
   "cell_type": "code",
   "execution_count": null,
   "outputs": [],
   "source": [
    "smod_omega00001.GetTrajectoryData()\n",
    "smod_omega01.GetTrajectoryData()\n",
    "smod_omega2.GetTrajectoryData()\n",
    "smod_omega1k.GetTrajectoryData()\n",
    "smod_omega10k.GetTrajectoryData()\n",
    "\n",
    "bin_size_list = [1,5]\n",
    "\n",
    "fig1 = plt.figure(figsize=(10, 3), dpi=300) \n",
    "gs1 = gridspec.GridSpec(1,2, width_ratios=[1,1]) \n",
    "\n",
    "ax10 = plt.subplot(gs1[0, 0])\n",
    "ax11 = plt.subplot(gs1[0, 1])\n",
    "\n",
    "\n",
    "ax1_ = [ax10, ax11]\n",
    "model1 = [smod_omega2, smod_omega1k]\n",
    "title1 = [\"Omega = 2\", \"Omega = 1k\"]\n",
    "\n",
    "for i in range(2):\n",
    "    plt.sca(ax1_[i])  \n",
    "    model1[i].plot.ResetPlotnum()\n",
    "    model1[i].PlotSpeciesDistributions(bin_size=bin_size_list[i],colors=col)\n",
    "    ax1_[i].set_title(title1[i])\n"
   ],
   "metadata": {
    "collapsed": false,
    "is_executing": true
   },
   "id": "bc007ea681410e02"
  },
  {
   "cell_type": "code",
   "execution_count": null,
   "outputs": [],
   "source": [
    "# Hill-type function\n",
    "def h(x, k_max, k_d, n_):\n",
    "    return k_max / (1 + ((x/k_d)**n_))\n",
    "\n",
    "p_stable_state = [b1*k1/Gamma1]\n",
    "\n",
    "for i in range(1,7):\n",
    "    q_i = b/Gamma * h(p_stable_state[i-1],kmax,kd,n)\n",
    "    p_stable_state.append(q_i)\n",
    "    \n",
    "p_stable_state = [i*1000 for i in p_stable_state]"
   ],
   "metadata": {
    "collapsed": false,
    "is_executing": true
   },
   "id": "341f67bf4fd1189e"
  },
  {
   "cell_type": "code",
   "execution_count": null,
   "outputs": [],
   "source": [
    "fig2 = plt.figure(figsize=(10, 3), dpi=300)\n",
    "smod_omega1k.plot.ResetPlotnum()\n",
    "smod_omega1k.PlotSpeciesDistributions(bin_size=10,colors=col,title=\"Empirical protein distribution for $\\Omega = 10^3$\")\n",
    "plt.grid(linestyle = '--', linewidth = 0.5)\n",
    "plt.vlines(x = p_stable_state, color = 'grey', linestyle='dashed', ymin = 0, ymax = 0.3, label = 'theoretical fixed point')"
   ],
   "metadata": {
    "collapsed": false,
    "is_executing": true
   },
   "id": "eabadbc059ee6371"
  },
  {
   "cell_type": "code",
   "execution_count": null,
   "outputs": [],
   "source": [
    "fig4 = plt.figure(figsize=(20, 5), dpi=300)\n",
    "gs4 = gridspec.GridSpec(1,2, width_ratios=[1,1])  \n",
    "\n",
    "ax40 = plt.subplot(gs1[0, 0])\n",
    "ax41 = plt.subplot(gs1[0, 1])\n",
    "\n",
    "\n",
    "ax4_ = [ax40, ax41]\n",
    "model1 = [smod_omega2, smod_omega1k]\n",
    "title1 = [\"Omega = 2\", \"Omega = 1k\"]\n",
    "\n",
    "for i in range(2):\n",
    "    plt.sca(ax4_[i])  # Set current axes\n",
    "    model1[i].plot.ResetPlotnum()\n",
    "    model1[i].PlotSpeciesTimeSeries(colors=col,title=\"Number of molecules in time \"+title1[i])\n",
    "    ax4_[i].grid(linestyle = '--', linewidth = 0.5)\n",
    "    if i==0:\n",
    "        ax4_[i].legend('')\n",
    "        ax4_[i].set_xlim(0,200)\n",
    "    else:\n",
    "        ax4_[i].set_ylabel('')\n",
    "        ax4_[i].set_xlim(0,200)\n"
   ],
   "metadata": {
    "collapsed": false,
    "is_executing": true
   },
   "id": "1da96ccee2a0696c"
  },
  {
   "cell_type": "code",
   "execution_count": null,
   "outputs": [],
   "source": [
    "fig3 = plt.figure(figsize=(8, 4), dpi=300)\n",
    "smod_omega2.plot.ResetPlotnum()\n",
    "smod_omega2.PlotSpeciesDistributions(bin_size=1,colors=col,title=\"Empirical protein distribution for $\\Omega = 2$\")\n",
    "plt.grid(linestyle = '--', linewidth = 0.5)"
   ],
   "metadata": {
    "collapsed": false,
    "is_executing": true
   },
   "id": "b0b1e912a2d7f18a"
  },
  {
   "cell_type": "code",
   "execution_count": null,
   "outputs": [],
   "source": [
    "fig1 = plt.figure(figsize=(10, 3),  dpi=300) \n",
    "gs1 = gridspec.GridSpec(1,3, width_ratios=[1, 1, 1]) \n",
    "\n",
    "ax10 = plt.subplot(gs1[0, 0])\n",
    "ax11 = plt.subplot(gs1[0, 1])\n",
    "ax12 = plt.subplot(gs1[0, 2])\n",
    "\n",
    "ax1_ = [ax10, ax11, ax12]\n",
    "title1 = [\"P2, P3\", \"P4, P5\", \"P6, P7\"]\n",
    "\n",
    "for i in range(3):\n",
    "    plt.sca(ax1_[i])  # Set current axes\n",
    "    smod_omega2.plot.ResetPlotnum()\n",
    "    smod_omega2.PlotSpeciesDistributions(species2plot=[labels[i*2+1],labels[i*2+2]],bin_size=1,colors=[col[i*2+1],col[i*2+2]])\n",
    "    ax1_[i].set_title(title1[i])\n",
    "    ax1_[i].set_ylim(0, 0.25)\n",
    "    ax1_[i].grid(linestyle = '--', linewidth = 0.5)"
   ],
   "metadata": {
    "collapsed": false,
    "is_executing": true
   },
   "id": "6c95cba57077347f"
  },
  {
   "cell_type": "code",
   "execution_count": null,
   "outputs": [],
   "source": [
    "means = []\n",
    "variances = []\n",
    "fano_factor = []\n",
    "models = [smod_omega00001, smod_omega01, smod_omega2, smod_omega1k]\n",
    "omega = [0.0001,0.1,2,1000]\n",
    "\n",
    "for i in range(4):\n",
    "    mu_molecules = list(models[i].data_stochsim.species_means.values())\n",
    "    mu_concentration = [j/omega[i] for j in mu_molecules]\n",
    "    \n",
    "    sigma_molecules = list(models[i].data_stochsim.species_standard_deviations.values())\n",
    "    sigma_concentration = [j/omega[i] for j in sigma_molecules]\n",
    "    \n",
    "    ff = [(val**2)/mu_molecules[idx] for idx, val in enumerate(sigma_molecules)]\n",
    "    means.append(mu_concentration)\n",
    "    variances.append([(j**2)/omega[i] for j in sigma_molecules])\n",
    "    \n",
    "    fano_factor.append(ff)\n",
    "    "
   ],
   "metadata": {
    "collapsed": false,
    "is_executing": true
   },
   "id": "f0461d58e3fe297f"
  },
  {
   "cell_type": "code",
   "execution_count": null,
   "outputs": [],
   "source": [
    "from tabulate import tabulate\n",
    "print('MEAN')\n",
    "print(tabulate(means, headers=labels))"
   ],
   "metadata": {
    "collapsed": false,
    "is_executing": true
   },
   "id": "c779df7555cff00"
  },
  {
   "cell_type": "code",
   "execution_count": null,
   "outputs": [],
   "source": [
    "print('VARIANCE')\n",
    "print(tabulate(variances, headers=labels))"
   ],
   "metadata": {
    "collapsed": false,
    "is_executing": true
   },
   "id": "e678440bd1ba2985"
  },
  {
   "cell_type": "code",
   "execution_count": null,
   "outputs": [],
   "source": [
    "print('FANO FACTOR')\n",
    "print(tabulate(fano_factor, headers=labels))"
   ],
   "metadata": {
    "collapsed": false,
    "is_executing": true
   },
   "id": "77602277910b696"
  },
  {
   "cell_type": "code",
   "execution_count": null,
   "outputs": [],
   "source": [],
   "metadata": {
    "collapsed": false,
    "is_executing": true
   },
   "id": "1b69dad274214015"
  }
 ],
 "metadata": {
  "kernelspec": {
   "display_name": "Python 3",
   "language": "python",
   "name": "python3"
  },
  "language_info": {
   "codemirror_mode": {
    "name": "ipython",
    "version": 2
   },
   "file_extension": ".py",
   "mimetype": "text/x-python",
   "name": "python",
   "nbconvert_exporter": "python",
   "pygments_lexer": "ipython2",
   "version": "2.7.6"
  }
 },
 "nbformat": 4,
 "nbformat_minor": 5
}
